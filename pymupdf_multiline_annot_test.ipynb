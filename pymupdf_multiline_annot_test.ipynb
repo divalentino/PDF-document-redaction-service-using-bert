{
 "cells": [
  {
   "cell_type": "code",
   "execution_count": 1,
   "metadata": {},
   "outputs": [],
   "source": [
    "import sys\n",
    "import fitz\n",
    "import requests\n",
    "import json\n",
    "import numpy as np"
   ]
  },
  {
   "cell_type": "code",
   "execution_count": 11,
   "metadata": {},
   "outputs": [
    {
     "data": {
      "text/plain": [
       "[Rect(426.0403747558594, 216.52978515625, 504.3009033203125, 227.52978515625)]"
      ]
     },
     "execution_count": 11,
     "metadata": {},
     "output_type": "execute_result"
    }
   ],
   "source": [
    "page.searchFor(\"asahi breweries\")"
   ]
  },
  {
   "cell_type": "code",
   "execution_count": 12,
   "metadata": {},
   "outputs": [
    {
     "name": "stdout",
     "output_type": "stream",
     "text": [
      "[Rect(463.3050842285156, 86.52978515625, 496.9411926269531, 97.52978515625), Rect(72.0, 99.52978515625, 123.9788818359375, 110.52978515625)]\n"
     ]
    }
   ],
   "source": [
    "fname = \"doc2.pdf\"\n",
    "doc   = fitz.open(fname)\n",
    "\n",
    "for page in doc :\n",
    "    t  = \"Seibei Nakagawa\"\n",
    "    ql = page.searchFor(t)\n",
    "    \n",
    "    print(ql)\n",
    "    \n",
    "    a  = page.addHighlightAnnot(ql)\n",
    "\n",
    "    a.setInfo(info=\"dsfhdfsdhfsh\",content=\"value: %s\"%(t))\n",
    "    a.update()    \n",
    "    \n",
    "    page.drawRect(a.rect)\n",
    "\n",
    "doc.save(\"bob.pdf\")\n",
    "    \n",
    "# Point(86.4762191772461, 247.7672119140625)\n",
    "# >>> soc.saveIncr()    \n",
    "    \n",
    "    # NOTE: getTextWords also returns rect - we can use this probably\n",
    "#      sentence = \" \".join([word[4] for word in page.getTextWords()])\n",
    "    # print(sentence)\n",
    "    \n",
    "#     npp    = np.array(page.getTextWords())\n",
    "#     words  = npp[:,4].tolist()\n",
    "#     rects  = npp[:,0:4].tolist()\n",
    "    \n",
    "#     url   = 'http://127.0.0.1:5050/tag_sentence_rects'\n",
    "#     myobj = {'tokens': words, 'rects' : rects}\n",
    "#     # print(myobj)\n",
    "#     x      = requests.post(url=url,json=myobj)\n",
    "#     tags   = json.loads(x.text)['result']\n",
    "    \n",
    "#     # print(tags)\n",
    "    \n",
    "#     # mark_words_with_rect(page, tags)\n",
    "    \n",
    "# doc.save(\"marked-\" + doc.name)"
   ]
  }
 ],
 "metadata": {
  "kernelspec": {
   "display_name": "Python 3",
   "language": "python",
   "name": "python3"
  },
  "language_info": {
   "codemirror_mode": {
    "name": "ipython",
    "version": 3
   },
   "file_extension": ".py",
   "mimetype": "text/x-python",
   "name": "python",
   "nbconvert_exporter": "python",
   "pygments_lexer": "ipython3",
   "version": "3.6.5"
  }
 },
 "nbformat": 4,
 "nbformat_minor": 2
}
