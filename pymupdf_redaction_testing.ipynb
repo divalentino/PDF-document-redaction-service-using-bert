{
 "cells": [
  {
   "cell_type": "code",
   "execution_count": 50,
   "metadata": {},
   "outputs": [],
   "source": [
    "import sys\n",
    "import fitz\n",
    "import requests\n",
    "import json\n",
    "import numpy as np"
   ]
  },
  {
   "cell_type": "markdown",
   "metadata": {},
   "source": [
    "# Newer tests with rect-based tagging"
   ]
  },
  {
   "cell_type": "markdown",
   "metadata": {},
   "source": [
    "Should in theory be more robust and less error prone."
   ]
  },
  {
   "cell_type": "code",
   "execution_count": 51,
   "metadata": {},
   "outputs": [],
   "source": [
    "ppd_blue = (115./255., 203./255., 235./255.)"
   ]
  },
  {
   "cell_type": "code",
   "execution_count": 52,
   "metadata": {},
   "outputs": [],
   "source": [
    "def add_ppd_box(page,rect) : \n",
    "    \n",
    "    page.addRedactAnnot(rect)\n",
    "    \n",
    "    # Need to also add \"PPD\" in the rectangle\n",
    "    rc    = page.drawRect(rect,color=ppd_blue,fill=ppd_blue)\n",
    "    shape = page.newShape()\n",
    "\n",
    "    # rc.setColor(ppd_blue)\n",
    "    rc    = shape.insertTextbox(rect, \"PPD\", color = (0,0,0))\n",
    "    shape.commit()\n",
    "    \n",
    "    page.apply_redactions()"
   ]
  },
  {
   "cell_type": "code",
   "execution_count": 53,
   "metadata": {},
   "outputs": [],
   "source": [
    "def mark_words_with_rect(page,tags) : \n",
    "\n",
    "    tokens = tags['tokens']\n",
    "    rects  = tags['rects']\n",
    "\n",
    "    for i in range(len(tokens)) :\n",
    "        for j in range(len(tokens[i])) : \n",
    "            \n",
    "            value = tokens[i][j]['token']\n",
    "            label = tokens[i][j]['label']\n",
    "\n",
    "            for punct in \".,!@?()[]-\" :\n",
    "                value = value.replace(\" \"+punct,punct)\n",
    "            \n",
    "            if label == 'O' :\n",
    "                continue\n",
    "                \n",
    "            # print(\"Tagging value:\",value)\n",
    "            \n",
    "            rect  = [float(ri) for ri in rects[i][j]]\n",
    "            r = fitz.Rect(rect)       # make rect from word bbox\n",
    "            \n",
    "            # We've crossed over - try to find the annotation instead\n",
    "            if rect[0]>rect[2] and rect[3]>rect[1] :\n",
    "                search_value = value\n",
    "                print(\"Looking for multi-line phrase: %s\"%(search_value))\n",
    "                ql = page.searchFor(search_value)\n",
    "                print(rect)\n",
    "                print(ql)              \n",
    "                for iq in range(len(ql)) :                   \n",
    "                    if abs(float(ql[iq][0])-rect[0])<0.01 :\n",
    "                        # Hard defaulting to only assuming one line of overlap\n",
    "                        rect = [ql[iq], ql[iq+1]]\n",
    "                        print(\"Got rect:\",rect)\n",
    "                        break\n",
    "\n",
    "                for ir in rect :\n",
    "                    add_ppd_box(page,ir)\n",
    "                        \n",
    "                continue              \n",
    "            \n",
    "            add_ppd_box(page,rect)"
   ]
  },
  {
   "cell_type": "code",
   "execution_count": 54,
   "metadata": {
    "scrolled": false
   },
   "outputs": [
    {
     "name": "stdout",
     "output_type": "stream",
     "text": [
      "Looking for multi-line phrase: seibei nakagawa\n",
      "[463.3050842285156, 86.52978515625, 127.03556060791016, 110.52978515625]\n",
      "[Rect(463.30517578125, 86.52978515625, 496.9412841796875, 97.52978515625), Rect(72.0, 99.52978515625, 123.9788818359375, 110.52978515625)]\n",
      "Got rect: [Rect(463.30517578125, 86.52978515625, 496.9412841796875, 97.52978515625), Rect(72.0, 99.52978515625, 123.9788818359375, 110.52978515625)]\n",
      "Looking for multi-line phrase: sapporo beer sapporo\n",
      "[475.57342529296875, 359.52978515625, 138.66387939453125, 383.52978515625]\n",
      "[Rect(475.5734558105469, 359.52978515625, 520.2205810546875, 370.52978515625), Rect(72.0, 372.52978515625, 138.66387939453125, 383.52978515625)]\n",
      "Got rect: [Rect(475.5734558105469, 359.52978515625, 520.2205810546875, 370.52978515625), Rect(72.0, 372.52978515625, 138.66387939453125, 383.52978515625)]\n"
     ]
    }
   ],
   "source": [
    "fname = \"doc2.pdf\"\n",
    "doc   = fitz.open(fname)\n",
    "\n",
    "for page in doc :\n",
    "    \n",
    "    # NOTE: getTextWords also returns rect - we can use this probably\n",
    "    sentence = \" \".join([word[4] for word in page.getTextWords()])\n",
    "    # print(sentence)\n",
    "    \n",
    "    npp    = np.array(page.getTextWords())\n",
    "    words  = npp[:,4].tolist()\n",
    "    rects  = npp[:,0:4].tolist()\n",
    "    \n",
    "    url   = 'http://127.0.0.1:5050/tag_sentence_rects'\n",
    "    myobj = {'tokens': words, 'rects' : rects}\n",
    "    # print(myobj)\n",
    "    x      = requests.post(url=url,json=myobj)\n",
    "    tags   = json.loads(x.text)['result']\n",
    "    \n",
    "    # print(tags)\n",
    "    \n",
    "    mark_words_with_rect(page, tags)\n",
    "    \n",
    "doc.save(\"redacted-\" + doc.name)"
   ]
  }
 ],
 "metadata": {
  "kernelspec": {
   "display_name": "Python 3",
   "language": "python",
   "name": "python3"
  },
  "language_info": {
   "codemirror_mode": {
    "name": "ipython",
    "version": 3
   },
   "file_extension": ".py",
   "mimetype": "text/x-python",
   "name": "python",
   "nbconvert_exporter": "python",
   "pygments_lexer": "ipython3",
   "version": "3.7.4"
  }
 },
 "nbformat": 4,
 "nbformat_minor": 2
}
