{
 "cells": [
  {
   "cell_type": "markdown",
   "metadata": {},
   "source": [
    "**Goal:** Tokenize a sentence into words and punctuation and keep track of the start/end indices of each token - needed to string together sequences of tokens to join `B-`, `I-` tags."
   ]
  },
  {
   "cell_type": "code",
   "execution_count": 12,
   "metadata": {},
   "outputs": [],
   "source": [
    "import os\n",
    "import sys\n",
    "import numpy as np\n",
    "import xml.etree.ElementTree as ET"
   ]
  },
  {
   "cell_type": "code",
   "execution_count": 2,
   "metadata": {},
   "outputs": [],
   "source": [
    "s = \"A 36-year old patient was admitted complaining of stomach pain and was later diagnosed with ulcerative colitis.\""
   ]
  },
  {
   "cell_type": "code",
   "execution_count": 3,
   "metadata": {},
   "outputs": [],
   "source": [
    "def split_str_token(s) : \n",
    "    istart=0\n",
    "    iend=0\n",
    "    ovec=[]\n",
    "    for i in range(len(s)) : \n",
    "        if str(s[i]).lower() in list('abcdefghijklmnopqrstuvwxyz1234567890') :\n",
    "            continue\n",
    "        elif s[i] in list('-/.?,!%*') :\n",
    "            \n",
    "            # Capture the term before it\n",
    "            iend   = i\n",
    "            ovec.append([s[istart:iend],istart,iend])\n",
    "            istart = iend+1\n",
    "            \n",
    "            # Now capture the punctuation\n",
    "            istart = i\n",
    "            iend   = i+1\n",
    "            ovec.append([s[i],istart,iend])\n",
    "            istart = i+1\n",
    "            continue\n",
    "        else : \n",
    "            iend   = i\n",
    "            ovec.append([s[istart:iend],istart,iend])\n",
    "            istart = iend+1\n",
    "    return ovec"
   ]
  },
  {
   "cell_type": "code",
   "execution_count": 4,
   "metadata": {},
   "outputs": [
    {
     "name": "stdout",
     "output_type": "stream",
     "text": [
      "A 36-year old patient was admitted complaining of stomach pain and was later diagnosed with ulcerative colitis.\n"
     ]
    }
   ],
   "source": [
    "print(s)"
   ]
  },
  {
   "cell_type": "code",
   "execution_count": 5,
   "metadata": {},
   "outputs": [],
   "source": [
    "# Turn it into an array to keep track of start, end indices\n",
    "tok_mat = np.array([np.array(isi) for isi in split_str_token(s)])"
   ]
  },
  {
   "cell_type": "code",
   "execution_count": 6,
   "metadata": {},
   "outputs": [],
   "source": [
    "words = tok_mat[:,0]\n",
    "sind  = tok_mat[:,1]\n",
    "eind  = tok_mat[:,2]"
   ]
  },
  {
   "cell_type": "code",
   "execution_count": 7,
   "metadata": {
    "scrolled": false
   },
   "outputs": [],
   "source": [
    "if False : \n",
    "    fout_words = open(\"words.txt\",\"w\")\n",
    "    fout_ind   = open(\"indices.txt\",\"w\")\n",
    "    for i in range(len(words)) :\n",
    "        #print(words[i]+\",\"+sind[i]+\",\"+eind[i])\n",
    "        fout_words.write(words[i]+\" O \\n\")\n",
    "        fout_ind.write(sind[i]+\",\"+eind[i]+\"\\n\")\n",
    "        if i>0 and i%10 == 0 :\n",
    "            fout_words.write(\"\\n\")\n",
    "            fout_ind.write(\"\\n\")\n",
    "    fout_words.close()\n",
    "    fout_ind.close()"
   ]
  },
  {
   "cell_type": "markdown",
   "metadata": {},
   "source": [
    "## Re-ingest the words and indices and try to tag the sentence with it"
   ]
  },
  {
   "cell_type": "code",
   "execution_count": 8,
   "metadata": {},
   "outputs": [],
   "source": [
    "tokens  = []\n",
    "ind     = []\n",
    "\n",
    "with open(\"words.txt\",\"r\") as fin :\n",
    "    tokens = fin.readlines()\n",
    "with open(\"indices.txt\",\"r\") as fin :\n",
    "    ind   = fin.readlines()\n",
    "assert(len(tokens)==len(ind))    "
   ]
  },
  {
   "cell_type": "code",
   "execution_count": 9,
   "metadata": {},
   "outputs": [],
   "source": [
    "words   = []\n",
    "tags    = []\n",
    "sind    = []\n",
    "eind    = []\n",
    "\n",
    "for i in range(len(tokens)) : \n",
    "    if len(tokens[i].split())==0 :\n",
    "        continue\n",
    "    words.append(tokens[i].split()[0])\n",
    "    tags.append(tokens[i].split()[1].replace(\"\\n\",\"\"))\n",
    "    sind.append(int(ind[i].split(\",\")[0]))\n",
    "    eind.append(int(ind[i].split(\",\")[1]))\n",
    "    \n",
    "assert(len(words)==len(tags)==len(sind)==len(eind))"
   ]
  },
  {
   "cell_type": "code",
   "execution_count": 25,
   "metadata": {
    "scrolled": true
   },
   "outputs": [
    {
     "name": "stdout",
     "output_type": "stream",
     "text": [
      "AGE tag found: 36 at [2,4]\n",
      "<annotation endIndex=\"4\" id=\"0\" startIndex=\"2\"><semanticType>AGE</semanticType></annotation>\n",
      "MEDICAL_HISTORY tag found: stomach pain at [50,62]\n",
      "<annotation endIndex=\"62\" id=\"1\" startIndex=\"50\"><semanticType>MEDICAL_HISTORY</semanticType></annotation>\n",
      "MEDICAL_HISTORY tag found: ulcerative colitis at [92,110]\n",
      "<annotation endIndex=\"110\" id=\"2\" startIndex=\"92\"><semanticType>MEDICAL_HISTORY</semanticType></annotation>\n"
     ]
    }
   ],
   "source": [
    "iannot=-1\n",
    "for pii_type in ['AGE','MEDICAL_HISTORY'] : \n",
    "    for i in range(len(tags)) :\n",
    "        if tags[i] == 'B-%s'%(pii_type) : \n",
    "            iannot+=1\n",
    "            istart = sind[i]\n",
    "            iend   = eind[i]\n",
    "            # Iterate forward to see if I-MEDICAL_HISTORY is found\n",
    "            for j in range(i+1,len(tags)) : \n",
    "                if tags[j] == 'I-%s'%(pii_type) :\n",
    "                    iend = eind[j]\n",
    "                else :\n",
    "                    break\n",
    "            print(\"%s tag found: %s at [%i,%i]\"%(pii_type,s[istart:iend],istart,iend))\n",
    "            e = ET.fromstring('<annotation id=\"%i\" startIndex=\"%i\" \\\n",
    "            endIndex=\"%i\"><semanticType>%s</semanticType></annotation>'%(iannot,int(istart),int(iend),pii_type))\n",
    "            ET.dump(e)"
   ]
  }
 ],
 "metadata": {
  "kernelspec": {
   "display_name": "Python 3",
   "language": "python",
   "name": "python3"
  },
  "language_info": {
   "codemirror_mode": {
    "name": "ipython",
    "version": 3
   },
   "file_extension": ".py",
   "mimetype": "text/x-python",
   "name": "python",
   "nbconvert_exporter": "python",
   "pygments_lexer": "ipython3",
   "version": "3.7.4"
  }
 },
 "nbformat": 4,
 "nbformat_minor": 2
}
